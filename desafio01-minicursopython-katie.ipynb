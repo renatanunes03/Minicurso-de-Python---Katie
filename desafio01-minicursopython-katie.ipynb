{
  "nbformat": 4,
  "nbformat_minor": 0,
  "metadata": {
    "colab": {
      "name": "Untitled0.ipynb",
      "provenance": [],
      "collapsed_sections": [],
      "toc_visible": true
    },
    "kernelspec": {
      "name": "python3",
      "display_name": "Python 3"
    },
    "language_info": {
      "name": "python"
    }
  },
  "cells": [
    {
      "cell_type": "code",
      "metadata": {
        "id": "-O99J6Y9Z4E8"
      },
      "source": [
        "\n",
        "def pedido(pedido1, pedido2):\n",
        "  comida = []\n",
        "  bebida = []\n",
        "  comida.append(pedido1)\n",
        "  bebida.append(pedido2)\n",
        "  valor = 0\n",
        "  for i in comida:\n",
        "    i = i.lower()\n",
        "    if i == 'lasanha':\n",
        "      valor += 8.00\n",
        "      print('A lasanha custa R$8.00')\n",
        "    elif i == 'estrogonofe':\n",
        "      valor += 11.00\n",
        "      print('O estrogonofe custa R$ 11.00')\n",
        "    else:\n",
        "      print('No momento temos apenas lasanha e estrogonofe para servir')\n",
        "  for i in bebida:\n",
        "    i = i.lower()\n",
        "    if i == 'refrigerante':\n",
        "      valor += 3.00\n",
        "      print('O refrigerante custa R$3.00')\n",
        "    elif i == 'suco':\n",
        "      valor += 2.50\n",
        "      print('O suco custa R$2.50')\n",
        "    else:\n",
        "      print(f'No momento temos refrigerante e água para servir.')\n",
        "  print(f'Total do seu pedido é de R${valor:.2f}')"
      ],
      "execution_count": 266,
      "outputs": []
    },
    {
      "cell_type": "code",
      "metadata": {
        "colab": {
          "base_uri": "https://localhost:8080/"
        },
        "id": "scAzKb2Lib_W",
        "outputId": "b4cf55e2-1dfe-4e9b-867f-41543ba0606b"
      },
      "source": [
        "pedido1 =  input('Qula será sua comida hoje? ')\n",
        "pedido2 = input('E pra beber? ')\n",
        "pedido(pedido1, pedido2)"
      ],
      "execution_count": 271,
      "outputs": [
        {
          "output_type": "stream",
          "text": [
            "Qula será sua comida hoje? lasanha\n",
            "E pra beber? suco\n",
            "A lasanha custa R$8.00\n",
            "O suco custa R$2.50\n",
            "Total do seu pedido é de R$10.50\n"
          ],
          "name": "stdout"
        }
      ]
    },
    {
      "cell_type": "markdown",
      "metadata": {
        "id": "JkCUIfBc0Xid"
      },
      "source": [
        "# Nova seção"
      ]
    }
  ]
}